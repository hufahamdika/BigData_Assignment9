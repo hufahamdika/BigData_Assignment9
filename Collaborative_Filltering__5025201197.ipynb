{
  "nbformat": 4,
  "nbformat_minor": 0,
  "metadata": {
    "colab": {
      "provenance": [],
      "authorship_tag": "ABX9TyMhv2LXLive7jwE2EaIZX3i",
      "include_colab_link": true
    },
    "kernelspec": {
      "name": "python3",
      "display_name": "Python 3"
    },
    "language_info": {
      "name": "python"
    }
  },
  "cells": [
    {
      "cell_type": "markdown",
      "metadata": {
        "id": "view-in-github",
        "colab_type": "text"
      },
      "source": [
        "<a href=\"https://colab.research.google.com/github/hufahamdika/BigData_Assignment9/blob/main/Collaborative_Filltering__5025201197.ipynb\" target=\"_parent\"><img src=\"https://colab.research.google.com/assets/colab-badge.svg\" alt=\"Open In Colab\"/></a>"
      ]
    },
    {
      "cell_type": "markdown",
      "source": [
        "## <b>Big Data Assignment Week 9</b>\n",
        "### Collaborative Filtering\n",
        "- Name : Abidjanna Zulfa Hamdika\n",
        "- NRP : 5025201197\n",
        "- Class : Big Data A"
      ],
      "metadata": {
        "id": "tnaTbrC5wIrP"
      }
    },
    {
      "cell_type": "code",
      "execution_count": 1,
      "metadata": {
        "colab": {
          "base_uri": "https://localhost:8080/"
        },
        "id": "8Mf9SfX9qIDc",
        "outputId": "3da72c82-c474-4b14-9e83-79f583a15522"
      },
      "outputs": [
        {
          "output_type": "stream",
          "name": "stdout",
          "text": [
            "Looking in indexes: https://pypi.org/simple, https://us-python.pkg.dev/colab-wheels/public/simple/\n",
            "Collecting pyspark\n",
            "  Downloading pyspark-3.3.2.tar.gz (281.4 MB)\n",
            "\u001b[2K     \u001b[90m━━━━━━━━━━━━━━━━━━━━━━━━━━━━━━━━━━━━━━━\u001b[0m \u001b[32m281.4/281.4 MB\u001b[0m \u001b[31m4.3 MB/s\u001b[0m eta \u001b[36m0:00:00\u001b[0m\n",
            "\u001b[?25h  Preparing metadata (setup.py) ... \u001b[?25l\u001b[?25hdone\n",
            "Collecting py4j==0.10.9.5\n",
            "  Downloading py4j-0.10.9.5-py2.py3-none-any.whl (199 kB)\n",
            "\u001b[2K     \u001b[90m━━━━━━━━━━━━━━━━━━━━━━━━━━━━━━━━━━━━━━\u001b[0m \u001b[32m199.7/199.7 kB\u001b[0m \u001b[31m22.7 MB/s\u001b[0m eta \u001b[36m0:00:00\u001b[0m\n",
            "\u001b[?25hBuilding wheels for collected packages: pyspark\n",
            "  Building wheel for pyspark (setup.py) ... \u001b[?25l\u001b[?25hdone\n",
            "  Created wheel for pyspark: filename=pyspark-3.3.2-py2.py3-none-any.whl size=281824028 sha256=9a09107b598a3589d2e8386fa783b12b3250b46fa0655bbee0fd132a71ae4f20\n",
            "  Stored in directory: /root/.cache/pip/wheels/6c/e3/9b/0525ce8a69478916513509d43693511463c6468db0de237c86\n",
            "Successfully built pyspark\n",
            "Installing collected packages: py4j, pyspark\n",
            "  Attempting uninstall: py4j\n",
            "    Found existing installation: py4j 0.10.9.7\n",
            "    Uninstalling py4j-0.10.9.7:\n",
            "      Successfully uninstalled py4j-0.10.9.7\n",
            "Successfully installed py4j-0.10.9.5 pyspark-3.3.2\n"
          ]
        }
      ],
      "source": [
        "# Install Spark\n",
        "\n",
        "!pip install pyspark"
      ]
    },
    {
      "cell_type": "code",
      "source": [
        "# Import Library\n",
        "\n",
        "from pyspark.ml.evaluation import RegressionEvaluator\n",
        "from pyspark.ml.recommendation import ALS\n",
        "from pyspark.sql import Row, SparkSession"
      ],
      "metadata": {
        "id": "G0WiEh-lqYi-"
      },
      "execution_count": 2,
      "outputs": []
    },
    {
      "cell_type": "code",
      "source": [
        "# Initialize Spark Session\n",
        "spark = SparkSession.builder \\\n",
        "    .master(\"local\") \\\n",
        "    .appName(\"MovieLens\") \\\n",
        "    .getOrCreate()\n",
        "\n",
        "spark.sparkContext.setCheckpointDir(\"./checkpoint\")"
      ],
      "metadata": {
        "id": "P5BLkJ84qYiB"
      },
      "execution_count": 3,
      "outputs": []
    },
    {
      "cell_type": "code",
      "source": [
        "# Read data from txt file and separate it for each line\n",
        "lines = spark.read.text(\"./sample_data/sample_movielens_ratings.txt\").rdd\n",
        "parts = lines.map(lambda row: row.value.split(\"::\"))"
      ],
      "metadata": {
        "id": "Qb9D_6dfrdHO"
      },
      "execution_count": 5,
      "outputs": []
    },
    {
      "cell_type": "code",
      "source": [
        "# Convert data into a DataFrame with userId, movieId, rating, and timestamp columns and split it to train set (80%) and test set (%)\n",
        "ratingsRDD = parts.map(lambda p: Row(userId=int(p[0]), movieId=int(p[1]),\n",
        "                                     rating=float(p[2]), timestamp=int(p[3])))\n",
        "\n",
        "ratings = spark.createDataFrame(ratingsRDD)\n",
        "(training, test) = ratings.randomSplit([0.8, 0.2])"
      ],
      "metadata": {
        "id": "gipqIcSareR5"
      },
      "execution_count": 6,
      "outputs": []
    },
    {
      "cell_type": "code",
      "source": [
        "# Initialize the parameters and RMSE (Root Mean Squared Error) results\n",
        "max_iters = [5, 10, 20]\n",
        "reg_params = [0.1, 0.5, 1.0]\n",
        "\n",
        "results = {}"
      ],
      "metadata": {
        "id": "HLRlF-3Br0or"
      },
      "execution_count": 7,
      "outputs": []
    },
    {
      "cell_type": "code",
      "source": [
        "# loop for every available parameters (max_iters and reg_params)\n",
        "for max_iter in max_iters:\n",
        "    for reg_param in reg_params:\n",
        "        # Build the recommendation model using ALS on the training data\n",
        "        # Note we set cold start strategy to 'drop' to ensure we don't get NaN evaluation metrics\n",
        "        als = ALS(maxIter=max_iter, regParam=reg_param, userCol=\"userId\", itemCol=\"movieId\", ratingCol=\"rating\",\n",
        "                  coldStartStrategy=\"drop\")\n",
        "        model = als.fit(training)\n",
        "\n",
        "        # Evaluate the model by computing the RMSE on the test data\n",
        "        predictions = model.transform(test)\n",
        "        evaluator = RegressionEvaluator(metricName=\"rmse\", labelCol=\"rating\",\n",
        "                                        predictionCol=\"prediction\")\n",
        "        rmse = evaluator.evaluate(predictions)\n",
        "\n",
        "        # Save the RMSE result in the dictionary\n",
        "        results[(max_iter, reg_param)] = rmse\n",
        "        print(f\"Root-mean-square error for maxIter={max_iter}, regParam={reg_param} = {rmse}\")"
      ],
      "metadata": {
        "colab": {
          "base_uri": "https://localhost:8080/"
        },
        "id": "tzagSNQMr0nw",
        "outputId": "7e3acbb7-ff97-4978-d005-d860f72173bd"
      },
      "execution_count": 8,
      "outputs": [
        {
          "output_type": "stream",
          "name": "stdout",
          "text": [
            "Root-mean-square error for maxIter=5, regParam=0.1 = 1.0980025894305074\n",
            "Root-mean-square error for maxIter=5, regParam=0.5 = 1.3403395705687726\n",
            "Root-mean-square error for maxIter=5, regParam=1.0 = 1.601397865149919\n",
            "Root-mean-square error for maxIter=10, regParam=0.1 = 1.085953856621306\n",
            "Root-mean-square error for maxIter=10, regParam=0.5 = 1.33934295029582\n",
            "Root-mean-square error for maxIter=10, regParam=1.0 = 1.6013987524399758\n",
            "Root-mean-square error for maxIter=20, regParam=0.1 = 1.0999874878080267\n",
            "Root-mean-square error for maxIter=20, regParam=0.5 = 1.3395420410940868\n",
            "Root-mean-square error for maxIter=20, regParam=1.0 = 1.6013987530363245\n"
          ]
        }
      ]
    },
    {
      "cell_type": "code",
      "source": [
        "# Find the the best hyperparameter by checking for the lowest RMSE\n",
        "best_params = min(results, key=results.get)\n",
        "best_rmse = results[best_params]\n",
        "print(f\"\\nBest hyperparameters: maxIter={best_params[0]}, regParam={best_params[1]} with RMSE={best_rmse}\")"
      ],
      "metadata": {
        "id": "OkejUfDqr4PG",
        "colab": {
          "base_uri": "https://localhost:8080/"
        },
        "outputId": "bed81b28-fb52-40ff-c60c-848481ba5b70"
      },
      "execution_count": 9,
      "outputs": [
        {
          "output_type": "stream",
          "name": "stdout",
          "text": [
            "\n",
            "Best hyperparameters: maxIter=10, regParam=0.1 with RMSE=1.085953856621306\n"
          ]
        }
      ]
    },
    {
      "cell_type": "code",
      "source": [
        "# Train the model with the best hyperparameters\n",
        "best_als = ALS(maxIter=best_params[0], regParam=best_params[1], userCol=\"userId\", itemCol=\"movieId\", ratingCol=\"rating\",\n",
        "               coldStartStrategy=\"drop\")\n",
        "best_model = best_als.fit(training)"
      ],
      "metadata": {
        "id": "o3qHyLapr5pC"
      },
      "execution_count": 10,
      "outputs": []
    },
    {
      "cell_type": "code",
      "source": [
        "# Top 10 movie recommendations for each users\n",
        "userRecs = best_model.recommendForAllUsers(10)\n",
        "userRecs.show()"
      ],
      "metadata": {
        "id": "Srd0sBpFr9-n",
        "colab": {
          "base_uri": "https://localhost:8080/"
        },
        "outputId": "02e2a79f-6548-4f7d-9331-0a08dd68c15b"
      },
      "execution_count": 11,
      "outputs": [
        {
          "output_type": "stream",
          "name": "stdout",
          "text": [
            "+------+--------------------+\n",
            "|userId|     recommendations|\n",
            "+------+--------------------+\n",
            "|    20|[{22, 3.7739089},...|\n",
            "|    10|[{92, 3.3430772},...|\n",
            "|     0|[{92, 3.2897763},...|\n",
            "|     1|[{62, 3.2322254},...|\n",
            "|    21|[{29, 3.7919166},...|\n",
            "|    11|[{27, 4.8759212},...|\n",
            "|    12|[{46, 4.591204}, ...|\n",
            "|    22|[{75, 4.6298304},...|\n",
            "|     2|[{8, 4.5548162}, ...|\n",
            "|    13|[{93, 3.1580074},...|\n",
            "|     3|[{88, 3.278472}, ...|\n",
            "|    23|[{32, 4.8106484},...|\n",
            "|     4|[{62, 3.4732409},...|\n",
            "|    24|[{69, 4.323935}, ...|\n",
            "|    14|[{29, 4.72722}, {...|\n",
            "|     5|[{55, 3.891803}, ...|\n",
            "|    15|[{46, 3.8362877},...|\n",
            "|    25|[{47, 3.2836604},...|\n",
            "|    26|[{22, 4.573277}, ...|\n",
            "|     6|[{29, 3.0228002},...|\n",
            "+------+--------------------+\n",
            "only showing top 20 rows\n",
            "\n"
          ]
        }
      ]
    },
    {
      "cell_type": "code",
      "source": [
        "# Top 10 user recommendations for each movies\n",
        "movieRecs = best_model.recommendForAllItems(10)\n",
        "movieRecs.show()"
      ],
      "metadata": {
        "id": "sRkFl_aJr99Y",
        "colab": {
          "base_uri": "https://localhost:8080/"
        },
        "outputId": "19c31002-b3be-4928-fbbd-048391c65a41"
      },
      "execution_count": 12,
      "outputs": [
        {
          "output_type": "stream",
          "name": "stdout",
          "text": [
            "+-------+--------------------+\n",
            "|movieId|     recommendations|\n",
            "+-------+--------------------+\n",
            "|     20|[{17, 3.9656518},...|\n",
            "|     40|[{2, 3.5651405}, ...|\n",
            "|     10|[{23, 3.2484283},...|\n",
            "|     50|[{23, 3.9213653},...|\n",
            "|     80|[{26, 3.3616567},...|\n",
            "|     70|[{4, 3.0943582}, ...|\n",
            "|     60|[{22, 2.490396}, ...|\n",
            "|     90|[{17, 4.5779405},...|\n",
            "|     30|[{22, 4.201868}, ...|\n",
            "|      0|[{28, 2.3643532},...|\n",
            "|     31|[{12, 2.8387053},...|\n",
            "|     81|[{28, 4.0413823},...|\n",
            "|     91|[{12, 2.6991887},...|\n",
            "|      1|[{25, 2.1454346},...|\n",
            "|     41|[{4, 3.2170773}, ...|\n",
            "|     61|[{28, 1.8552811},...|\n",
            "|     51|[{22, 4.168604}, ...|\n",
            "|     21|[{26, 1.964947}, ...|\n",
            "|     11|[{24, 1.0601054},...|\n",
            "|     71|[{25, 3.146885}, ...|\n",
            "+-------+--------------------+\n",
            "only showing top 20 rows\n",
            "\n"
          ]
        }
      ]
    },
    {
      "cell_type": "code",
      "source": [
        "# Generate top 10 movie recommendations for a specific set of users\n",
        "users = ratings.select(best_als.getUserCol()).distinct().limit(3)\n",
        "userSubsetRecs = best_model.recommendForUserSubset(users, 10)\n",
        "userSubsetRecs.show()"
      ],
      "metadata": {
        "id": "xxIx5a22sGR1",
        "colab": {
          "base_uri": "https://localhost:8080/"
        },
        "outputId": "82403155-1227-4d9f-96d6-69b4f8803723"
      },
      "execution_count": 13,
      "outputs": [
        {
          "output_type": "stream",
          "name": "stdout",
          "text": [
            "+------+--------------------+\n",
            "|userId|     recommendations|\n",
            "+------+--------------------+\n",
            "|    26|[{22, 4.573277}, ...|\n",
            "|    19|[{32, 3.3303351},...|\n",
            "|    29|[{46, 4.34456}, {...|\n",
            "+------+--------------------+\n",
            "\n"
          ]
        }
      ]
    },
    {
      "cell_type": "code",
      "source": [
        "# Generate top 10 user recommendations for a specific set of movies\n",
        "movies = ratings.select(best_als.getItemCol()).distinct().limit(3)\n",
        "movieSubSetRecs = best_model.recommendForItemSubset(movies, 10)\n",
        "movieSubSetRecs.show()"
      ],
      "metadata": {
        "id": "xuiI-S_3sIFB",
        "colab": {
          "base_uri": "https://localhost:8080/"
        },
        "outputId": "0ef94c6d-09b4-4dc2-b458-ad87bbb1bec7"
      },
      "execution_count": 14,
      "outputs": [
        {
          "output_type": "stream",
          "name": "stdout",
          "text": [
            "+-------+--------------------+\n",
            "|movieId|     recommendations|\n",
            "+-------+--------------------+\n",
            "|     65|[{17, 1.7917507},...|\n",
            "|     26|[{28, 2.7602966},...|\n",
            "|     29|[{8, 4.982995}, {...|\n",
            "+-------+--------------------+\n",
            "\n"
          ]
        }
      ]
    }
  ]
}